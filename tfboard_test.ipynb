{
 "cells": [
  {
   "cell_type": "code",
   "execution_count": 1,
   "metadata": {},
   "outputs": [
    {
     "name": "stdout",
     "output_type": "stream",
     "text": [
      "0\n",
      "2\n",
      "4\n"
     ]
    }
   ],
   "source": [
    "import tensorflow as tf\n",
    "\n",
    "a = tf.constant(2, name='A') # 定数a = 2を宣言\n",
    "x = tf.Variable(0, name='X') # 変数xを初期値0で宣言\n",
    "y = tf.multiply(a, x, name='Y') # y = a * x\n",
    "\n",
    "x_incrementer = tf.assign(x, x + 1, name='X_INCREMENTER') # x++\n",
    "\n",
    "sess = tf.InteractiveSession()\n",
    "\n",
    "tf.summary.scalar('X_SCALAR', x) # xをスカラーとして記録\n",
    "tf.summary.scalar('Y_SCALAR', y) # yをスカラーとして記録\n",
    "merged = tf.summary.merge_all() # おまじない\n",
    "if tf.gfile.Exists('./logdir'):\n",
    "    tf.gfile.DeleteRecursively('./logdir') # ./logdirが存在する場合削除\n",
    "writer = tf.summary.FileWriter('./logdir', sess.graph) # 保存先を./logdirに設定\n",
    "\n",
    "tf.global_variables_initializer().run()\n",
    "\n",
    "for i in range(3):\n",
    "    summary, result = sess.run([merged, y])\n",
    "    # sess.runの戻り値は第1引数(fetches)と同じ型\n",
    "    # summaryにはxとyの値がスカラーとして保存される.\n",
    "    # resultにはyの値が保存される.\n",
    "    writer.add_summary(summary, i)\n",
    "    # summaryをi番目のイテレーションとして./logdirに記録\n",
    "    print(result) # 0, 2, 4\n",
    "    sess.run(x_incrementer) # x++を実行"
   ]
  },
  {
   "cell_type": "code",
   "execution_count": null,
   "metadata": {},
   "outputs": [],
   "source": []
  }
 ],
 "metadata": {
  "kernelspec": {
   "display_name": "Python 3",
   "language": "python",
   "name": "python3"
  },
  "language_info": {
   "codemirror_mode": {
    "name": "ipython",
    "version": 3
   },
   "file_extension": ".py",
   "mimetype": "text/x-python",
   "name": "python",
   "nbconvert_exporter": "python",
   "pygments_lexer": "ipython3",
   "version": "3.7.4"
  }
 },
 "nbformat": 4,
 "nbformat_minor": 4
}
