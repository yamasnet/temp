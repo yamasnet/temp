{
 "cells": [
  {
   "cell_type": "code",
   "execution_count": 21,
   "metadata": {},
   "outputs": [
    {
     "name": "stdout",
     "output_type": "stream",
     "text": [
      "3\n"
     ]
    }
   ],
   "source": [
    "import tensorflow as tf\n",
    "sess = tf.InteractiveSession()\n",
    "\n",
    "log_dir = './logs/simple01'\n",
    "\n",
    "#指定したディレクトリがあれば削除し、再作成\n",
    "if tf.gfile.Exists(log_dir):\n",
    "    tf.gfile.DeleteRecursively(log_dir)\n",
    "tf.gfile.MakeDirs(log_dir)\n",
    "\n",
    "x = tf.constant(1, name='x')\n",
    "y = tf.constant(2, name='y')\n",
    "z = x + y\n",
    "\n",
    "# このコマンドでzをグラフ上に出力\n",
    "_ = tf.summary.scalar('z', z)\n",
    "\n",
    "# SummaryWriterでグラフを書く(これより後のコマンドはグラフに出力されない)\n",
    "summary_writer = tf.summary.FileWriter(log_dir , sess.graph)\n",
    "\n",
    "# 実行\n",
    "print(sess.run(z))\n",
    "\n",
    "# SummaryWriterクローズ\n",
    "summary_writer.close()"
   ]
  },
  {
   "cell_type": "code",
   "execution_count": null,
   "metadata": {},
   "outputs": [],
   "source": []
  }
 ],
 "metadata": {
  "kernelspec": {
   "display_name": "Python 3",
   "language": "python",
   "name": "python3"
  },
  "language_info": {
   "codemirror_mode": {
    "name": "ipython",
    "version": 3
   },
   "file_extension": ".py",
   "mimetype": "text/x-python",
   "name": "python",
   "nbconvert_exporter": "python",
   "pygments_lexer": "ipython3",
   "version": "3.7.3"
  }
 },
 "nbformat": 4,
 "nbformat_minor": 4
}
